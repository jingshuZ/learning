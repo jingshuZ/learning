{
 "cells": [
  {
   "cell_type": "code",
   "execution_count": 1,
   "metadata": {},
   "outputs": [
    {
     "name": "stdout",
     "output_type": "stream",
     "text": [
      "10\n",
      "50\n"
     ]
    }
   ],
   "source": [
    "phone_balance = 10\n",
    "bank_balance = 50\n",
    "\n",
    "if phone_balance < 10:\n",
    "    phone_balance += 10\n",
    "    bank_balance -= 10\n",
    "\n",
    "print(phone_balance)\n",
    "print(bank_balance)"
   ]
  },
  {
   "cell_type": "code",
   "execution_count": 3,
   "metadata": {},
   "outputs": [
    {
     "name": "stdout",
     "output_type": "stream",
     "text": [
      "Number 145 is odd.\n"
     ]
    }
   ],
   "source": [
    "number = 145\n",
    "if number % 2 == 0:  # %是求余数的\n",
    "    print(\"Number \" + str(number) + \" is even.\")\n",
    "else:\n",
    "    print(\"Number \" + str(number) + \" is odd.\")"
   ]
  },
  {
   "cell_type": "code",
   "execution_count": 5,
   "metadata": {},
   "outputs": [
    {
     "name": "stdout",
     "output_type": "stream",
     "text": [
      "Somebody who is 35 years old will pay $2.5 to ride the bus.\n"
     ]
    }
   ],
   "source": [
    "#Third Example - try to change the value of age,输入年龄\n",
    "age = 35\n",
    "\n",
    "# Here are the age limits for bus fares，年龄\n",
    "free_up_to_age = 4\n",
    "child_up_to_age = 18\n",
    "senior_from_age = 65\n",
    "    \n",
    "# These lines determine the bus fare prices，票价\n",
    "concession_ticket = 1.25\n",
    "adult_ticket = 2.50\n",
    "\n",
    "# Here is the logic for bus fare prices\n",
    "if age <= free_up_to_age:\n",
    "    ticket_price = 0          #小于等于4岁，无票价，大于4岁进入下循环        \n",
    "elif age <= child_up_to_age:\n",
    "    ticket_price = concession_ticket   #小于18，输出concession票价，大于18进入下循环\n",
    "elif age >= senior_from_age:\n",
    "    ticket_price = concession_ticket    #大于65，输出concession票价，小于65进入下循环\n",
    "else:\n",
    "    ticket_price = adult_ticket\n",
    "\n",
    "# .format() -  作为拼接字符串进行使用 '{}'，'{}'.format(变量,变量，变量)\n",
    "message = \"Somebody who is {} years old will pay ${} to ride the bus.\".format(age, ticket_price)\n",
    "print(message) "
   ]
  },
  {
   "cell_type": "code",
   "execution_count": 10,
   "metadata": {},
   "outputs": [
    {
     "name": "stdout",
     "output_type": "stream",
     "text": [
      "Congratulations! You won a wafer-thin mint!\n"
     ]
    }
   ],
   "source": [
    "points = 174  # use this input to make your submission\n",
    "name = ['wooden rabbit', 'no prize', 'wafer-thin mint', 'penguin']\n",
    "if points < 1:\n",
    "    prizename = name[1]\n",
    "    result = \"Oh dear, {} this time.\".format(prizename)\n",
    "elif points <= 50:\n",
    "    prizename = name[0]\n",
    "    result = \"Congratulations! You won a {}!\".format(prizename)\n",
    "elif points <= 150:\n",
    "    prizename = name[1]\n",
    "    result = \"Oh dear, {} this time.\".format(prizename)\n",
    "elif points <= 180:\n",
    "    prizename = name[2]\n",
    "    result = \"Congratulations! You won a {}!\".format(prizename)\n",
    "elif points <= 200:\n",
    "    prizename = name[3]\n",
    "    result = \"Congratulations! You won a {}!\".format(prizename)\n",
    "else:\n",
    "    prizename = name[1]\n",
    "    result = \"Oh dear, {} this time.\".format(prizename)\n",
    "    \n",
    "print(result)\n",
    "\n",
    "############标答如下###############\n",
    "#points = 174\n",
    "\n",
    "# if points <= 50:\n",
    "#     result = \"Congratulations! You won a wooden rabbit!\"\n",
    "# elif points <= 150:\n",
    "#     result = \"Oh dear, no prize this time.\"\n",
    "# elif points <= 180:\n",
    "#     result = \"Congratulations! You won a wafer-thin mint!\"\n",
    "# else:\n",
    "#     result = \"Congratulations! You won a penguin!\"\n",
    "\n",
    "# print(result)"
   ]
  },
  {
   "cell_type": "code",
   "execution_count": 1,
   "metadata": {},
   "outputs": [
    {
     "name": "stdout",
     "output_type": "stream",
     "text": [
      "You have 3 errors to fix!\n"
     ]
    }
   ],
   "source": [
    "#真假值测试\n",
    "errors = 3\n",
    "if errors:\n",
    "    print(\"You have {} errors to fix!\".format(errors))\n",
    "else:\n",
    "    print(\"No errors to fix!\")"
   ]
  },
  {
   "cell_type": "code",
   "execution_count": 42,
   "metadata": {},
   "outputs": [
    {
     "name": "stdout",
     "output_type": "stream",
     "text": [
      "Congratulations! You won a wafer-thin mint!\n"
     ]
    }
   ],
   "source": [
    "#真假值测试练习题\n",
    "points = 174\n",
    "# use this as input for your submission\n",
    "# establish the default prize value to None,None可以直接赋值\n",
    "prize = None\n",
    "if points <= 50:\n",
    "    prize = 'wooden rabbit'\n",
    "    result = \"Congratulations! You won a {}!\".format(prize)\n",
    "elif points <= 150:\n",
    "    prize = 'no prize'\n",
    "    result = 'Oh dear, {} this time.'.format(prize)\n",
    "elif points <= 180:\n",
    "    prize = 'wafer-thin mint'\n",
    "    result = \"Congratulations! You won a {}!\".format(prize)\n",
    "else:\n",
    "    prize = 'penguin'\n",
    "    result = \"Congratulations! You won a {}!\".format(prize)\n",
    "print(result)\n",
    "\n",
    "############标答如下###############\n",
    "# prize = None\n",
    "# if points <= 50:\n",
    "#     prize = \"a wooden rabbit\"\n",
    "# elif 151 <= points <= 180:\n",
    "#     prize = \"a wafer-thin mint\"\n",
    "# elif points >= 181:\n",
    "#     prize = \"a penguin\"\n",
    "\n",
    "# if prize:\n",
    "#     result = \"Congratulations! You won \" + prize + \"!\"\n",
    "# else:\n",
    "#     result = \"Oh dear, no prize this time.\"\n",
    "\n",
    "# print(result)"
   ]
  },
  {
   "cell_type": "code",
   "execution_count": 77,
   "metadata": {},
   "outputs": [
    {
     "name": "stdout",
     "output_type": "stream",
     "text": [
      "['joey_tribbiani', 'monica_geller', 'chandler_bing', 'phoebe_buffay']\n"
     ]
    }
   ],
   "source": [
    "#练习：创建用户名\n",
    "names = [\"Joey Tribbiani\", \"Monica Geller\", \"Chandler Bing\", \"Phoebe Buffay\"]\n",
    "usernames = []\n",
    "for index in range(len(names)):\n",
    "# range访问列表中的所有元素，len() 返回列表中的元素数量，len() = 4 ,range4次，输出\n",
    "   names[index] = names[index].lower().replace(' ', '_') #\n",
    "usernames = names\n",
    "# write your for loop here\n",
    "print(usernames)\n",
    "\n",
    "############### 参考答案 #################  \n",
    "# append() —— 将元素添加到列表末尾\n",
    "#------------------------------------\n",
    "# names = [\"Joey Tribbiani\", \"Monica Geller\", \"Chandler Bing\", \"Phoebe Buffay\"]\n",
    "# usernames = []\n",
    "\n",
    "# for name in names: \n",
    "#     usernames.append(name.lower().replace(\" \", \"_\"))\n",
    "\n",
    "# print(usernames)"
   ]
  },
  {
   "cell_type": "code",
   "execution_count": 87,
   "metadata": {},
   "outputs": [
    {
     "name": "stdout",
     "output_type": "stream",
     "text": [
      "2\n"
     ]
    }
   ],
   "source": [
    "#标记计数器\n",
    "#写一个 for 循环，用于遍历字符串列表 tokens 并数一下有多少个 XML 标记\n",
    "#如果某个字符串以左尖括号“<”开始并以右尖括号“>”结束，则是 XML 标记\n",
    "tokens = ['<greeting>', 'Hello World!', '</greeting>']\n",
    "count = 0\n",
    "# write your for loop here\n",
    "for xml in tokens:\n",
    "    if xml[0] == '<' and xml[-1] == '>':\n",
    "        count += 1\n",
    "print(count) "
   ]
  },
  {
   "cell_type": "code",
   "execution_count": 110,
   "metadata": {},
   "outputs": [
    {
     "name": "stdout",
     "output_type": "stream",
     "text": [
      "<ul>\n",
      "<li>first string<li>\n",
      "<li>second string<li>\n",
      "</ul>\n"
     ]
    }
   ],
   "source": [
    "#创建 HTML 列表\n",
    "#写一个 for 循环，用于遍历字符串列表并创建单个字符串 html_str，它是一个 HTML 列表\n",
    "items = ['first string', 'second string']\n",
    "html_str = '<ul>\\n'\n",
    "for item in range(len(items)):\n",
    "    items[item] = '<li>' + items[item] + '<li>'\n",
    "html_str += items[0] + '\\n' + items[1] + '\\n' + '</ul>'\n",
    "print(html_str)\n",
    "\n",
    "########### 参考答案 ############ format()- 拼接字符串使用\n",
    "# items = ['first string', 'second string']\n",
    "\n",
    "# html_str = \"<ul>\\n\"\n",
    "# for item in items:\n",
    "#     html_str += \"<li>{}</li>\\n\".format(item)\n",
    "# html_str += \"</ul>\"\n",
    "\n",
    "# print(html_str)"
   ]
  },
  {
   "cell_type": "code",
   "execution_count": 1,
   "metadata": {},
   "outputs": [
    {
     "name": "stdout",
     "output_type": "stream",
     "text": [
      "36\n"
     ]
    }
   ],
   "source": [
    "#最接近的平方数\n",
    "limit = 40\n",
    "num = 0\n",
    "while (num+1)**2 < limit:\n",
    "    num += 1\n",
    "nearest_square = num**2\n",
    "\n",
    "print(nearest_square)"
   ]
  },
  {
   "cell_type": "code",
   "execution_count": 2,
   "metadata": {},
   "outputs": [
    {
     "name": "stdout",
     "output_type": "stream",
     "text": [
      "METHOD 1\n",
      "current weight: 0\n",
      "  adding bananas (15)\n",
      "current weight: 15\n",
      "  adding mattresses (24)\n",
      "current weight: 39\n",
      "  adding dog kennels (42)\n",
      "current weight: 81\n",
      "  adding machine (120)\n",
      "current weight: 201\n",
      "  breaking loop now!\n",
      "\n",
      "Final Weight: 201\n",
      "Final Items: ['bananas', 'mattresses', 'dog kennels', 'machine']\n",
      "\n",
      "METHOD 2\n",
      "current weight: 0\n",
      "  adding bananas (15)\n",
      "current weight: 15\n",
      "  adding mattresses (24)\n",
      "current weight: 39\n",
      "  adding dog kennels (42)\n",
      "current weight: 81\n",
      "  skipping machine (120)\n",
      "current weight: 81\n",
      "  adding cheeses (5)\n",
      "\n",
      "Final Weight: 86\n",
      "Final Items: ['bananas', 'mattresses', 'dog kennels', 'cheeses']\n"
     ]
    }
   ],
   "source": [
    "manifest = [(\"bananas\", 15), (\"mattresses\", 24), (\"dog kennels\", 42), (\"machine\", 120), (\"cheeses\", 5)]\n",
    "\n",
    "# the code breaks the loop when weight exceeds or reaches the limit\n",
    "print(\"METHOD 1\")\n",
    "weight = 0\n",
    "items = []\n",
    "for cargo_name, cargo_weight in manifest:\n",
    "    print(\"current weight: {}\".format(weight))\n",
    "    if weight >= 100:\n",
    "        print(\"  breaking loop now!\")\n",
    "        break\n",
    "    else:\n",
    "        print(\"  adding {} ({})\".format(cargo_name, cargo_weight))\n",
    "        items.append(cargo_name)\n",
    "        weight += cargo_weight\n",
    "\n",
    "print(\"\\nFinal Weight: {}\".format(weight))\n",
    "print(\"Final Items: {}\".format(items))\n",
    "\n",
    "# skips an iteration when adding an item would exceed the limit\n",
    "# breaks the loop if weight is exactly the value of the limit\n",
    "print(\"\\nMETHOD 2\")\n",
    "weight = 0\n",
    "items = []\n",
    "for cargo_name, cargo_weight in manifest:\n",
    "    print(\"current weight: {}\".format(weight))\n",
    "    if weight >= 100:\n",
    "        print(\"  breaking from the loop now!\")\n",
    "        break\n",
    "    elif weight + cargo_weight > 100:\n",
    "        print(\"  skipping {} ({})\".format(cargo_name, cargo_weight))\n",
    "        continue\n",
    "    else:\n",
    "        print(\"  adding {} ({})\".format(cargo_name, cargo_weight))\n",
    "        items.append(cargo_name)\n",
    "        weight += cargo_weight\n",
    "\n",
    "print(\"\\nFinal Weight: {}\".format(weight))\n",
    "print(\"Final Items: {}\".format(items))"
   ]
  },
  {
   "cell_type": "code",
   "execution_count": 19,
   "metadata": {},
   "outputs": [
    {
     "name": "stdout",
     "output_type": "stream",
     "text": [
      "Local Bear Eaten by Man Legislature Announces New Laws Peasant Discovers Violence Inherent in System Cat Rescues Fireman Stuck in Tree Brave Knight Runs Away \n"
     ]
    }
   ],
   "source": [
    "#练习：截断字符串\n",
    "headlines = [\"Local Bear Eaten by Man\",\n",
    "             \"Legislature Announces New Laws\",\n",
    "             \"Peasant Discovers Violence Inherent in System\",\n",
    "             \"Cat Rescues Fireman Stuck in Tree\",\n",
    "             \"Brave Knight Runs Away\",\n",
    "             \"Papperbok Review: Totally Triffic\"]\n",
    "\n",
    "news_ticker = \"\"\n",
    "word = 0 \n",
    "for headline in headlines:\n",
    "    news_ticker += headline + ' '\n",
    "    if len(news_ticker) >= 140:\n",
    "            break\n",
    "    news_ticker = news_ticker[:140]\n",
    "\n",
    "print(news_ticker)"
   ]
  },
  {
   "cell_type": "code",
   "execution_count": 88,
   "metadata": {},
   "outputs": [
    {
     "name": "stdout",
     "output_type": "stream",
     "text": [
      "F: -5,445,-1\n",
      "J: (23, 677, 4)\n",
      "A: (53, 233, 16)\n",
      "Q: (2, 405, -6)\n",
      "Y: (-12, 433, -42)\n",
      "B: (95, 905, 3)\n",
      "W: (103, 376, -6)\n",
      "X: (14, 432, 23)\n"
     ]
    }
   ],
   "source": [
    "x_coord = [23, 53, 2, -12, 95, 103, 14, -5]\n",
    "y_coord = [677, 233, 405, 433, 905, 376, 432, 445]\n",
    "z_coord = [4, 16, -6, -42, 3, -6, 23, -1]\n",
    "labels = [\"F\", \"J\", \"A\", \"Q\", \"Y\", \"B\", \"W\", \"X\"]\n",
    "\n",
    "points = []\n",
    "# write your for loop here\n",
    "for x, y, z in zip(x_coord, y_coord, z_coord):\n",
    "    coord = x, y, z \n",
    "    coords.append(coord)   \n",
    "for label, coord in zip(labels,coords):\n",
    "    point = \"{}: {}\".format(label, coord)\n",
    "    points.append(point)\n",
    "print(\"\\n\".join(points))\n",
    "#================================\n",
    "# for point in zip(labels, x_coord, y_coord, z_coord):\n",
    "#     points.append(\"{}: {}, {}, {}\".format(*point))\n",
    "\n",
    "# for point in points:\n",
    "#     print(point)"
   ]
  },
  {
   "cell_type": "code",
   "execution_count": 113,
   "metadata": {},
   "outputs": [
    {
     "name": "stdout",
     "output_type": "stream",
     "text": [
      "Barney:72\n",
      "Robin:68\n",
      "Ted:72\n",
      "Lily:66\n",
      "Marshall:76\n"
     ]
    }
   ],
   "source": [
    "cast_names = [\"Barney\", \"Robin\", \"Ted\", \"Lily\", \"Marshall\"]\n",
    "cast_heights = [72, 68, 72, 66, 76]\n",
    "\n",
    "for names, heights in zip(cast_names, cast_heights):\n",
    "    cast = '{}:{}'.format(names, heights)\n",
    "    #print(names, heights)\n",
    "    print(cast)\n",
    "#----------标答-----------------\n",
    "# cast = dict(zip(cast_names, cast_heights))\n",
    "# print(cast)"
   ]
  },
  {
   "cell_type": "code",
   "execution_count": 115,
   "metadata": {},
   "outputs": [
    {
     "name": "stdout",
     "output_type": "stream",
     "text": [
      "('Barney', 'Robin', 'Ted', 'Lily', 'Marshall')\n",
      "(72, 68, 72, 66, 76)\n"
     ]
    }
   ],
   "source": [
    "cast = ((\"Barney\", 72), (\"Robin\", 68), (\"Ted\", 72), (\"Lily\", 66), (\"Marshall\", 76))\n",
    "\n",
    "names, heights = zip(*cast)\n",
    "\n",
    "print(names)\n",
    "print(heights)"
   ]
  },
  {
   "cell_type": "code",
   "execution_count": 122,
   "metadata": {},
   "outputs": [
    {
     "name": "stdout",
     "output_type": "stream",
     "text": [
      "((0, 3, 6, 9), (1, 4, 7, 10), (2, 5, 8, 11))\n"
     ]
    }
   ],
   "source": [
    "#转置\n",
    "data = ((0, 1, 2), (3, 4, 5), (6, 7, 8), (9, 10, 11))\n",
    "x, y, z = zip(*data)\n",
    "data_transpose = x, y, z\n",
    "print(data_transpose)\n"
   ]
  },
  {
   "cell_type": "code",
   "execution_count": 135,
   "metadata": {},
   "outputs": [
    {
     "name": "stdout",
     "output_type": "stream",
     "text": [
      "['Barney Stinson 72', 'Robin Scherbatsky 68', 'Ted Mosby 72', 'Lily Aldrin 66', 'Marshall Eriksen 76']\n"
     ]
    }
   ],
   "source": [
    "cast = [\"Barney Stinson\", \"Robin Scherbatsky\", \"Ted Mosby\", \"Lily Aldrin\", \"Marshall Eriksen\"]\n",
    "heights = [72, 68, 72, 66, 76]\n",
    "for i, character in enumerate(cast):\n",
    "    cast[i] = character + \" \" + str(heights[i])\n",
    "print(cast)"
   ]
  },
  {
   "cell_type": "code",
   "execution_count": null,
   "metadata": {},
   "outputs": [],
   "source": []
  },
  {
   "cell_type": "code",
   "execution_count": null,
   "metadata": {},
   "outputs": [],
   "source": []
  }
 ],
 "metadata": {
  "kernelspec": {
   "display_name": "Python 3",
   "language": "python",
   "name": "python3"
  },
  "language_info": {
   "codemirror_mode": {
    "name": "ipython",
    "version": 3
   },
   "file_extension": ".py",
   "mimetype": "text/x-python",
   "name": "python",
   "nbconvert_exporter": "python",
   "pygments_lexer": "ipython3",
   "version": "3.7.3"
  }
 },
 "nbformat": 4,
 "nbformat_minor": 2
}
