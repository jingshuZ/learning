{
 "cells": [
  {
   "cell_type": "code",
   "execution_count": 1,
   "metadata": {},
   "outputs": [
    {
     "name": "stdout",
     "output_type": "stream",
     "text": [
      "10\n",
      "50\n"
     ]
    }
   ],
   "source": [
    "phone_balance = 10\n",
    "bank_balance = 50\n",
    "\n",
    "if phone_balance < 10:\n",
    "    phone_balance += 10\n",
    "    bank_balance -= 10\n",
    "\n",
    "print(phone_balance)\n",
    "print(bank_balance)"
   ]
  },
  {
   "cell_type": "code",
   "execution_count": 3,
   "metadata": {},
   "outputs": [
    {
     "name": "stdout",
     "output_type": "stream",
     "text": [
      "Number 145 is odd.\n"
     ]
    }
   ],
   "source": [
    "number = 145\n",
    "if number % 2 == 0:  # %是求余数的\n",
    "    print(\"Number \" + str(number) + \" is even.\")\n",
    "else:\n",
    "    print(\"Number \" + str(number) + \" is odd.\")"
   ]
  },
  {
   "cell_type": "code",
   "execution_count": 5,
   "metadata": {},
   "outputs": [
    {
     "name": "stdout",
     "output_type": "stream",
     "text": [
      "Somebody who is 35 years old will pay $2.5 to ride the bus.\n"
     ]
    }
   ],
   "source": [
    "#Third Example - try to change the value of age,输入年龄\n",
    "age = 35\n",
    "\n",
    "# Here are the age limits for bus fares，年龄\n",
    "free_up_to_age = 4\n",
    "child_up_to_age = 18\n",
    "senior_from_age = 65\n",
    "    \n",
    "# These lines determine the bus fare prices，票价\n",
    "concession_ticket = 1.25\n",
    "adult_ticket = 2.50\n",
    "\n",
    "# Here is the logic for bus fare prices\n",
    "if age <= free_up_to_age:\n",
    "    ticket_price = 0          #小于等于4岁，无票价，大于4岁进入下循环        \n",
    "elif age <= child_up_to_age:\n",
    "    ticket_price = concession_ticket   #小于18，输出concession票价，大于18进入下循环\n",
    "elif age >= senior_from_age:\n",
    "    ticket_price = concession_ticket    #大于65，输出concession票价，小于65进入下循环\n",
    "else:\n",
    "    ticket_price = adult_ticket\n",
    "\n",
    "# .format() -  作为拼接字符串进行使用 '{}'，'{}'.format(变量,变量，变量)\n",
    "message = \"Somebody who is {} years old will pay ${} to ride the bus.\".format(age, ticket_price)\n",
    "print(message) "
   ]
  },
  {
   "cell_type": "code",
   "execution_count": 10,
   "metadata": {},
   "outputs": [
    {
     "name": "stdout",
     "output_type": "stream",
     "text": [
      "Congratulations! You won a wafer-thin mint!\n"
     ]
    }
   ],
   "source": [
    "points = 174  # use this input to make your submission\n",
    "name = ['wooden rabbit', 'no prize', 'wafer-thin mint', 'penguin']\n",
    "if points < 1:\n",
    "    prizename = name[1]\n",
    "    result = \"Oh dear, {} this time.\".format(prizename)\n",
    "elif points <= 50:\n",
    "    prizename = name[0]\n",
    "    result = \"Congratulations! You won a {}!\".format(prizename)\n",
    "elif points <= 150:\n",
    "    prizename = name[1]\n",
    "    result = \"Oh dear, {} this time.\".format(prizename)\n",
    "elif points <= 180:\n",
    "    prizename = name[2]\n",
    "    result = \"Congratulations! You won a {}!\".format(prizename)\n",
    "elif points <= 200:\n",
    "    prizename = name[3]\n",
    "    result = \"Congratulations! You won a {}!\".format(prizename)\n",
    "else:\n",
    "    prizename = name[1]\n",
    "    result = \"Oh dear, {} this time.\".format(prizename)\n",
    "    \n",
    "print(result)\n",
    "\n",
    "############标答如下###############\n",
    "#points = 174\n",
    "\n",
    "# if points <= 50:\n",
    "#     result = \"Congratulations! You won a wooden rabbit!\"\n",
    "# elif points <= 150:\n",
    "#     result = \"Oh dear, no prize this time.\"\n",
    "# elif points <= 180:\n",
    "#     result = \"Congratulations! You won a wafer-thin mint!\"\n",
    "# else:\n",
    "#     result = \"Congratulations! You won a penguin!\"\n",
    "\n",
    "# print(result)"
   ]
  },
  {
   "cell_type": "code",
   "execution_count": 1,
   "metadata": {},
   "outputs": [
    {
     "name": "stdout",
     "output_type": "stream",
     "text": [
      "You have 3 errors to fix!\n"
     ]
    }
   ],
   "source": [
    "#真假值测试\n",
    "errors = 3\n",
    "if errors:\n",
    "    print(\"You have {} errors to fix!\".format(errors))\n",
    "else:\n",
    "    print(\"No errors to fix!\")"
   ]
  },
  {
   "cell_type": "code",
   "execution_count": 42,
   "metadata": {},
   "outputs": [
    {
     "name": "stdout",
     "output_type": "stream",
     "text": [
      "Congratulations! You won a wafer-thin mint!\n"
     ]
    }
   ],
   "source": [
    "#真假值测试练习题\n",
    "points = 174\n",
    "# use this as input for your submission\n",
    "# establish the default prize value to None,None可以直接赋值\n",
    "prize = None\n",
    "if points <= 50:\n",
    "    prize = 'wooden rabbit'\n",
    "    result = \"Congratulations! You won a {}!\".format(prize)\n",
    "elif points <= 150:\n",
    "    prize = 'no prize'\n",
    "    result = 'Oh dear, {} this time.'.format(prize)\n",
    "elif points <= 180:\n",
    "    prize = 'wafer-thin mint'\n",
    "    result = \"Congratulations! You won a {}!\".format(prize)\n",
    "else:\n",
    "    prize = 'penguin'\n",
    "    result = \"Congratulations! You won a {}!\".format(prize)\n",
    "print(result)\n",
    "\n",
    "############标答如下###############\n",
    "# prize = None\n",
    "# if points <= 50:\n",
    "#     prize = \"a wooden rabbit\"\n",
    "# elif 151 <= points <= 180:\n",
    "#     prize = \"a wafer-thin mint\"\n",
    "# elif points >= 181:\n",
    "#     prize = \"a penguin\"\n",
    "\n",
    "# if prize:\n",
    "#     result = \"Congratulations! You won \" + prize + \"!\"\n",
    "# else:\n",
    "#     result = \"Oh dear, no prize this time.\"\n",
    "\n",
    "# print(result)"
   ]
  },
  {
   "cell_type": "code",
   "execution_count": null,
   "metadata": {},
   "outputs": [],
   "source": []
  }
 ],
 "metadata": {
  "kernelspec": {
   "display_name": "Python 3",
   "language": "python",
   "name": "python3"
  },
  "language_info": {
   "codemirror_mode": {
    "name": "ipython",
    "version": 3
   },
   "file_extension": ".py",
   "mimetype": "text/x-python",
   "name": "python",
   "nbconvert_exporter": "python",
   "pygments_lexer": "ipython3",
   "version": "3.7.3"
  }
 },
 "nbformat": 4,
 "nbformat_minor": 2
}
