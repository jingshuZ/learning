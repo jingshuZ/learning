{
 "cells": [
  {
   "cell_type": "code",
   "execution_count": 2,
   "metadata": {},
   "outputs": [
    {
     "name": "stdout",
     "output_type": "stream",
     "text": [
      "\n",
      "Welcome to Python3!\n",
      "\n",
      "             ____\n",
      "            / . .\\\n",
      "            \\  ---<\n",
      "             \\  /\n",
      "   __________/ /\n",
      "-=:___________/\n",
      "\n",
      "<3, Juno\n",
      "\n"
     ]
    }
   ],
   "source": [
    "how_many_snakes = 1\n",
    "snake_string = \"\"\"\n",
    "Welcome to Python3!\n",
    "\n",
    "             ____\n",
    "            / . .\\\\\n",
    "            \\  ---<\n",
    "             \\  /\n",
    "   __________/ /\n",
    "-=:___________/\n",
    "\n",
    "<3, Juno\n",
    "\"\"\"\n",
    "\n",
    "\n",
    "print(snake_string * how_many_snakes)"
   ]
  },
  {
   "cell_type": "code",
   "execution_count": 3,
   "metadata": {},
   "outputs": [
    {
     "name": "stdin",
     "output_type": "stream",
     "text": [
      "Enter an expression:  2*3\n"
     ]
    },
    {
     "name": "stdout",
     "output_type": "stream",
     "text": [
      "6\n"
     ]
    }
   ],
   "source": [
    "result = eval(input(\"Enter an expression: \"))\n",
    "print(result)"
   ]
  },
  {
   "cell_type": "code",
   "execution_count": 4,
   "metadata": {},
   "outputs": [
    {
     "name": "stdin",
     "output_type": "stream",
     "text": [
      "Enter your name:  jing\n"
     ]
    },
    {
     "name": "stdout",
     "output_type": "stream",
     "text": [
      "Hello there, Jing!\n"
     ]
    }
   ],
   "source": [
    "name = input(\"Enter your name: \")\n",
    "print(\"Hello there, {}!\".format(name.title()))"
   ]
  },
  {
   "cell_type": "code",
   "execution_count": 8,
   "metadata": {},
   "outputs": [
    {
     "name": "stdin",
     "output_type": "stream",
     "text": [
      "Enter names separated by commas:  lily\n",
      "Enter assignment counts separated by commas:  80\n",
      "Enter grades separated by commas:  80\n"
     ]
    },
    {
     "name": "stdout",
     "output_type": "stream",
     "text": [
      "Hi Lily,\n",
      "\n",
      "This is a reminder that you have 80 assignments left to submit before you can graduate. You're current grade is 80 and can increase to 240 if you submit all assignments before the due date.\n",
      "\n",
      "\n"
     ]
    }
   ],
   "source": [
    "names = input(\"Enter names separated by commas: \").title().split(\",\")\n",
    "assignments = input(\"Enter assignment counts separated by commas: \").split(\",\")\n",
    "grades = input(\"Enter grades separated by commas: \").split(\",\")\n",
    "\n",
    "message = \"Hi {},\\n\\nThis is a reminder that you have {} assignments left to \\\n",
    "submit before you can graduate. You're current grade is {} and can increase \\\n",
    "to {} if you submit all assignments before the due date.\\n\\n\"\n",
    "\n",
    "for name, assignment, grade in zip(names, assignments, grades):\n",
    "    print(message.format(name, assignment, grade, int(grade) + int(assignment)*2))"
   ]
  },
  {
   "cell_type": "code",
   "execution_count": 16,
   "metadata": {},
   "outputs": [
    {
     "name": "stdout",
     "output_type": "stream",
     "text": [
      "Creating 6 groups...\n",
      "6 groups returned.\n",
      "[0, 1, 2, 3, 4]\n",
      "[5, 6, 7, 8, 9]\n",
      "[10, 11, 12, 13, 14]\n",
      "[15, 16, 17, 18, 19]\n",
      "[20, 21, 22, 23, 24]\n",
      "[25, 26, 27, 28, 29]\n",
      "[30, 31]\n",
      "\n",
      "Creating 0 groups...\n",
      "WARNING: Returning empty list. Please use a nonzero number.\n",
      "0 groups returned.\n"
     ]
    }
   ],
   "source": [
    "def create_groups(items, num_groups):\n",
    "    try:\n",
    "        size = len(items) // num_groups\n",
    "    except ZeroDivisionError:\n",
    "        print(\"WARNING: Returning empty list. Please use a nonzero number.\")\n",
    "        return []\n",
    "    else:\n",
    "        groups = []\n",
    "        for i in range(0, len(items), size):\n",
    "            groups.append(items[i:i + size])\n",
    "        return groups\n",
    "    finally:\n",
    "        print(\"{} groups returned.\".format(num_groups))\n",
    "\n",
    "print(\"Creating 6 groups...\")\n",
    "for group in create_groups(range(32), 6):\n",
    "    print(list(group))\n",
    "\n",
    "print(\"\\nCreating 0 groups...\")\n",
    "for group in create_groups(range(32), 0):\n",
    "    print(list(group))"
   ]
  },
  {
   "cell_type": "code",
   "execution_count": null,
   "metadata": {},
   "outputs": [],
   "source": []
  }
 ],
 "metadata": {
  "kernelspec": {
   "display_name": "Python 3",
   "language": "python",
   "name": "python3"
  },
  "language_info": {
   "codemirror_mode": {
    "name": "ipython",
    "version": 3
   },
   "file_extension": ".py",
   "mimetype": "text/x-python",
   "name": "python",
   "nbconvert_exporter": "python",
   "pygments_lexer": "ipython3",
   "version": "3.7.3"
  }
 },
 "nbformat": 4,
 "nbformat_minor": 2
}
